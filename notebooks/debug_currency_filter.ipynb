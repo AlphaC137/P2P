{
 "cells": [
  {
   "cell_type": "markdown",
   "id": "bf6d4675",
   "metadata": {},
   "source": [
    "# Debugging the Currency Conversion Error\n",
    "\n",
    "This notebook helps diagnose the issue with the currency filter where a `ConversionSyntax` error occurs when converting values to Decimal."
   ]
  },
  {
   "cell_type": "code",
   "execution_count": null,
   "id": "17183dc0",
   "metadata": {},
   "outputs": [],
   "source": [
    "# Import the necessary libraries\n",
    "from decimal import Decimal, InvalidOperation, ConversionSyntax\n",
    "from django.template.defaultfilters import floatformat\n",
    "import sys\n",
    "print(f\"Python version: {sys.version}\")"
   ]
  },
  {
   "cell_type": "markdown",
   "id": "07cee43f",
   "metadata": {},
   "source": [
    "## Testing the Current Implementation\n",
    "\n",
    "Let's simulate the function that's causing problems and test different input values."
   ]
  },
  {
   "cell_type": "code",
   "execution_count": null,
   "id": "3577cf47",
   "metadata": {},
   "outputs": [],
   "source": [
    "def test_currency(value, symbol='R'):\n",
    "    \"\"\"\n",
    "    Test function to simulate our template filter\n",
    "    \"\"\"\n",
    "    print(f\"Testing value: '{value}' of type {type(value)}\")\n",
    "    \n",
    "    if value is None:\n",
    "        print(\"Value is None, returning empty string\")\n",
    "        return ''\n",
    "    \n",
    "    try:\n",
    "        value = Decimal(value)\n",
    "        result = f\"{symbol}{floatformat(value, 2)}\"\n",
    "        print(f\"Success! Result: {result}\")\n",
    "        return result\n",
    "    except Exception as e:\n",
    "        print(f\"Error: {type(e).__name__}: {str(e)}\")\n",
    "        return ''"
   ]
  },
  {
   "cell_type": "code",
   "execution_count": null,
   "id": "4a7f5f5d",
   "metadata": {},
   "outputs": [],
   "source": [
    "# Test with various types of values\n",
    "test_values = [\n",
    "    100,                  # int\n",
    "    100.50,               # float\n",
    "    \"100.50\",             # string\n",
    "    Decimal(\"100.50\"),    # Decimal\n",
    "    \"\",                   # empty string\n",
    "    None,                 # None\n",
    "    \"invalid\",            # invalid string\n",
    "    {},                   # dict\n",
    "    object(),             # custom object\n",
    "]\n",
    "\n",
    "for value in test_values:\n",
    "    print(\"\\n\" + \"-\"*50)\n",
    "    test_currency(value)"
   ]
  },
  {
   "cell_type": "markdown",
   "id": "05061152",
   "metadata": {},
   "source": [
    "## Implementing a Robust Solution\n",
    "\n",
    "Based on the tests above, let's create an improved version of the currency filter that handles all edge cases properly."
   ]
  },
  {
   "cell_type": "code",
   "execution_count": null,
   "id": "450608c2",
   "metadata": {},
   "outputs": [],
   "source": [
    "def improved_currency(value, symbol='R'):\n",
    "    \"\"\"\n",
    "    Improved currency formatter that's more robust against errors\n",
    "    \"\"\"\n",
    "    if value is None or value == '':\n",
    "        return f\"{symbol}0.00\"\n",
    "    \n",
    "    try:\n",
    "        # Handle values that are already decimal or float\n",
    "        if isinstance(value, (Decimal, float, int)):\n",
    "            formatted_value = floatformat(value, 2)\n",
    "            return f\"{symbol}{formatted_value}\"\n",
    "        \n",
    "        # Try to convert string values to Decimal\n",
    "        if isinstance(value, str):\n",
    "            value = value.strip()\n",
    "        \n",
    "        value = Decimal(value)\n",
    "        return f\"{symbol}{floatformat(value, 2)}\"\n",
    "    except (ValueError, TypeError, InvalidOperation, ConversionSyntax) as e:\n",
    "        print(f\"Handling error: {type(e).__name__}: {str(e)}\")\n",
    "        # Return a safe value for error cases to avoid breaking the display\n",
    "        return f\"{symbol}0.00\""
   ]
  },
  {
   "cell_type": "code",
   "execution_count": null,
   "id": "a14d49ed",
   "metadata": {},
   "outputs": [],
   "source": [
    "# Test our improved implementation with the same test values\n",
    "for value in test_values:\n",
    "    print(\"\\n\" + \"-\"*50)\n",
    "    print(f\"Testing improved filter with: {value}\")\n",
    "    result = improved_currency(value)\n",
    "    print(f\"Result: {result}\")"
   ]
  },
  {
   "cell_type": "markdown",
   "id": "1f27c77c",
   "metadata": {},
   "source": [
    "## Testing with Problematic UserProfile Values\n",
    "\n",
    "Let's simulate a UserProfile object with different types of `available_balance` values to see how our filter handles them."
   ]
  },
  {
   "cell_type": "code",
   "execution_count": null,
   "id": "63721742",
   "metadata": {},
   "outputs": [],
   "source": [
    "class MockUserProfile:\n",
    "    def __init__(self, balance):\n",
    "        self.available_balance = balance\n",
    "\n",
    "test_profiles = [\n",
    "    MockUserProfile(100.50),\n",
    "    MockUserProfile(Decimal('100.50')),\n",
    "    MockUserProfile(\"100.50\"),\n",
    "    MockUserProfile(None),\n",
    "    MockUserProfile(\"\"),\n",
    "    MockUserProfile({}),\n",
    "    MockUserProfile(object())\n",
    "]\n",
    "\n",
    "for profile in test_profiles:\n",
    "    print(\"\\n\" + \"-\"*50)\n",
    "    print(f\"Profile balance: {profile.available_balance} of type {type(profile.available_balance)}\")\n",
    "    result = improved_currency(profile.available_balance)\n",
    "    print(f\"Formatted balance: {result}\")"
   ]
  },
  {
   "cell_type": "markdown",
   "id": "7d5700e8",
   "metadata": {},
   "source": [
    "## Conclusion\n",
    "\n",
    "The improved currency filter is more robust and handles a wider range of input types, including errors\n",
    "that might occur when accessing attributes like `available_balance`. This should fix the issue in the template."
   ]
  }
 ],
 "metadata": {
  "language_info": {
   "name": "python"
  }
 },
 "nbformat": 4,
 "nbformat_minor": 5
}
